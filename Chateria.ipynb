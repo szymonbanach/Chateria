{
  "nbformat": 4,
  "nbformat_minor": 0,
  "metadata": {
    "colab": {
      "provenance": []
    },
    "kernelspec": {
      "name": "python3",
      "display_name": "Python 3"
    },
    "language_info": {
      "name": "python"
    }
  },
  "cells": [
    {
      "cell_type": "code",
      "execution_count": null,
      "metadata": {
        "id": "8Cv8CZYWDG6f"
      },
      "outputs": [],
      "source": []
    },
    {
      "cell_type": "markdown",
      "source": [
        "# Zadanie 1\n",
        "\n",
        "\n",
        "Wypełnianie deklaracji PIT – Można to zautomatyzować przy użyciu specjalistycznego oprogramowania. Wymaga to raczej znajomości procedur i reguł, niż wysoce zaawansowanej inteligencji.\n",
        "\n",
        "Streszczanie tekstu – Wymaga rozumienia tekstu i wyodrębniania kluczowych informacji. Choć AI potrafi coraz więcej, najlepiej radzi sobie człowiek, który potrafi uwzględnić kontekst i istotę tekstu.\n",
        "\n",
        "Tłumaczenie tekstu – Wymaga znajomości języka i umiejętności oddania sensu w tłumaczeniu.\n",
        "\n",
        "Klasyfikacja tekstu do kategorii tematycznych – Wymaga zrozumienia kontekstu i często niuansów językowych, co może być wyzwaniem w bardziej skomplikowanych przypadkach.\n",
        "\n",
        "Odpowiadanie na proste pytania zadawane w języku naturalnym – AI radzi sobie z tym, ale nie zastąpi rozmowy z myślącym człowiekiem.\n",
        "\n",
        "Układanie rozkładu jazdy transportu miejskiego – Choć można to zautomatyzować do pewnego stopnia, optymalne rozwiązanie wymaga uwzględnienia wielu czynników, jak preferencje pasażerów, wahania w popycie czy inne zmienne, co może wymagać ludzkiej intuicji i elastyczności.\n",
        "\n",
        "Programowanie (pisanie programów komputerowych) – Chociaż komputer może wspomagać ten proces, kreatywność i rozwiązywanie złożonych problemów programistycznych nadal są zadaniami wymagającymi dużej zdolności logicznego myślenia.\n",
        "\n",
        "„Programowanie” kanałów telewizyjnych – Choć może być wspomagane przez algorytmy, aby dopasować programy do pory dnia czy preferencji widzów, nadal wymaga zrozumienia kulturowych i społecznych kontekstów.\n",
        "\n",
        "Testowanie oprogramowania – Choć można automatyzować testy, ocena jakości i pełne testowanie wymaga ludzkiej inteligencji do wykrywania błędów, które są trudne do przewidzenia przez AI.\n",
        "\n",
        "Komponowanie muzyki – Twórczość muzyczna jest głęboko związana z emocjami, kulturą i kreatywnością, które wymagają ludzkiego wglądu. Choć istnieją już programy komponujące muzykę z opisu.\n",
        "\n",
        "Rozwiązywanie układów równań – To zadanie jest bardziej matematyczne i może być całkowicie zautomatyzowane przez odpowiednie algorytmy.\n",
        "\n",
        "Symboliczne obliczanie pochodnych funkcji – Jak poprzednio, jest to zadanie wymagające wyłącznie logiki matematycznej, które może być całkowicie zautomatyzowane.\n",
        "\n",
        "Symboliczne całkowanie funkcji – Podobnie jak pochodne, to zadanie jest czysto matematyczne i może być wykonywane przez programy komputerowe.\n",
        "\n",
        "Kierowanie samochodem – Choć autonomiczne pojazdy rozwijają się, to nadal wymaga to zdolności do szybkiej oceny sytuacji, przewidywania zachowań innych uczestników ruchu i adaptacji do zmieniających się warunków, co jest trudne do całkowitego zautomatyzowania.\n"
      ],
      "metadata": {
        "id": "thCNUj6ZHdAV"
      }
    },
    {
      "cell_type": "markdown",
      "source": [
        "#Zadanie 2\n",
        "Wszystkie wymienione zadania, oprócz niektórych bardziej matematycznych i technicznych, mogą mieścić się w zakresie sztucznej inteligencji.\n",
        "\n",
        "Streszczanie tekstu – Tak SI analizuje tekst, rozumie jego sens i potrafi przedstawić kluczowe informacje w formie krótkiej wersji. Dobrze radzi sobie z tym chat GPT.\n",
        "\n",
        "Tłumaczenie tekstu – Tak, narzędzia takie jak Google Translate bazują na uczeniu maszynowym.\n",
        "\n",
        "Klasyfikacja tekstu do kategorii tematycznych – Modele AI rozpoznają tematy i przypisują teksty do określonych kategorii.\n",
        "\n",
        "Odpowiadanie na proste pytania zadawane w języku naturalnym – Tak, jest to podstawowe wyzwanie dla systemów AI.\n",
        "\n",
        "Rozwiązywanie układów równań –  Sztuczna inteligencja może być pomocna, ale głównie w formie algorytmów matematycznych.\n",
        "\n",
        "Układanie rozkładu jazdy – Sztuczna inteligencja może być bardzo przydatna przy logistycznym ustalaniu rozkładu z wieloma zmiennymi.\n",
        "\n",
        "Rozwiązywanie układów równań liniowych – To samo co w przypadku układów równań.\n",
        "\n",
        "Symboliczne obliczanie pochodnych – Tak, to zadanie może być realizowane przez sztuczną inteligencję.\n",
        "\n",
        "Symboliczne całkowanie – To samo co z resztą matematycznych działań, można je zautomatyzować.\n",
        "\n",
        "Kierowanie samochodem – Autonomiczne samochody istnieją już dzisiaj.\n",
        "\n",
        "\n",
        "\n"
      ],
      "metadata": {
        "id": "Ib82g9aaMNyE"
      }
    },
    {
      "cell_type": "markdown",
      "source": [
        "#Zadanie 3\n",
        "\n",
        "Rozmowa towarzyska – Częściowo. AI potrafi prowadzić prostą rozmowę, ale nie rozumie emocji czy subtelnych niuansów, więc może być ograniczona.\n",
        "\n",
        "Dyskusja polityczna – Częściowo. AI może rozmawiać o polityce, ale nie ma własnych poglądów i może być powierzchowna w trudniejszych tematach.\n",
        "\n",
        "Dyskusja naukowa – Częściowo. AI może przekazywać fakty i podstawowe informacje, ale nie potrafi +wymyślać nowych teorii.\n",
        "\n",
        "Odpowiadanie na pytania klientów (telefoniczna infolinia) – Skutecznie. AI dobrze radzi sobie z odpowiadaniem na proste pytania klientów, np. o produkty czy usługi.\n",
        "\n",
        "Odpowiadanie na pytania klientów (internetowa infolinia) – Skutecznie. Chatboty i AI dobrze radzą sobie w rozwiązywaniu standardowych problemów i udzielaniu informacji przez internet."
      ],
      "metadata": {
        "id": "x5q_bWh5G5kt"
      }
    }
  ]
}